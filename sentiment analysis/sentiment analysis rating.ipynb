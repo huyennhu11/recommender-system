{
 "cells": [
  {
   "cell_type": "code",
   "execution_count": 7,
   "metadata": {},
   "outputs": [],
   "source": [
    "import pandas as pd\n",
    "import numpy as np \n",
    "import matplotlib.pyplot as plt\n",
    "from sklearn.metrics import classification_report"
   ]
  },
  {
   "cell_type": "code",
   "execution_count": 8,
   "metadata": {},
   "outputs": [
    {
     "name": "stdout",
     "output_type": "stream",
     "text": [
      "<class 'pandas.core.frame.DataFrame'>\n",
      "RangeIndex: 8789 entries, 0 to 8788\n",
      "Data columns (total 10 columns):\n",
      " #   Column     Non-Null Count  Dtype  \n",
      "---  ------     --------------  -----  \n",
      " 0   address    8789 non-null   object \n",
      " 1   comment    8787 non-null   object \n",
      " 2   id_res     8789 non-null   int64  \n",
      " 3   id_user    8789 non-null   object \n",
      " 4   latitude   8789 non-null   float64\n",
      " 5   longitude  8789 non-null   float64\n",
      " 6   name_res   8789 non-null   object \n",
      " 7   rating     8789 non-null   float64\n",
      " 8   username   8789 non-null   object \n",
      " 9   label      8789 non-null   int64  \n",
      "dtypes: float64(3), int64(2), object(5)\n",
      "memory usage: 686.8+ KB\n"
     ]
    }
   ],
   "source": [
    "# dataset3.info()\n",
    "dataset3_path = r\"C:\\Users\\huyen\\Documents\\Final_DoAn\\Final_Data\\dataset3.csv\"\n",
    "data= pd.read_csv(dataset3_path)\n",
    "# dataset3= data.dropna()\n",
    "# dataset3 = dataset3.reset_index(drop=True)\n",
    "# dataset3.head()\n",
    "data.info()"
   ]
  },
  {
   "cell_type": "code",
   "execution_count": 17,
   "metadata": {},
   "outputs": [],
   "source": [
    "from sklearn.linear_model import LogisticRegression\n",
    "from sklearn.feature_extraction.text import CountVectorizer # ki thuat trich chon da trung bag-of-word\n",
    "from sklearn.feature_extraction.text import TfidfVectorizer"
   ]
  },
  {
   "cell_type": "code",
   "execution_count": 18,
   "metadata": {},
   "outputs": [],
   "source": [
    "data['label']=pd.to_numeric(data['label'], errors='coerce')"
   ]
  },
  {
   "cell_type": "code",
   "execution_count": null,
   "metadata": {},
   "outputs": [],
   "source": []
  },
  {
   "cell_type": "code",
   "execution_count": null,
   "metadata": {},
   "outputs": [],
   "source": []
  }
 ],
 "metadata": {
  "kernelspec": {
   "display_name": "Python 3",
   "language": "python",
   "name": "python3"
  },
  "language_info": {
   "codemirror_mode": {
    "name": "ipython",
    "version": 3
   },
   "file_extension": ".py",
   "mimetype": "text/x-python",
   "name": "python",
   "nbconvert_exporter": "python",
   "pygments_lexer": "ipython3",
   "version": "3.7.6"
  }
 },
 "nbformat": 4,
 "nbformat_minor": 4
}
